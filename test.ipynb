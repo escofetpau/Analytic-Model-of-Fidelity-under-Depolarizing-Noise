{
 "cells": [
  {
   "cell_type": "code",
   "execution_count": 2,
   "metadata": {},
   "outputs": [],
   "source": [
    "from qiskit_ibm_runtime import QiskitRuntimeService\n",
    "from qiskit.transpiler.preset_passmanagers import generate_preset_pass_manager\n",
    "import qiskit\n",
    "\n",
    "from estimation_algorithms.depolarizing_estimation import depolarizing\n",
    "from estimation_algorithms.esp_estimation import esp\n",
    "from estimation_algorithms.qva_estimation import qva\n",
    "from estimation_algorithms.qiskit_estimation import qiskit_fidelity, qiskit_counts"
   ]
  },
  {
   "cell_type": "code",
   "execution_count": 3,
   "metadata": {},
   "outputs": [],
   "source": [
    "service = QiskitRuntimeService(channel=\"ibm_quantum\", token=\"ADD YOUR TOKEN HERE\")\n",
    "backend = service.backend(\"ibm_brisbane\")"
   ]
  },
  {
   "cell_type": "code",
   "execution_count": 4,
   "metadata": {},
   "outputs": [],
   "source": [
    "pm = generate_preset_pass_manager(backend=backend, optimization_level=3)"
   ]
  },
  {
   "cell_type": "code",
   "execution_count": 5,
   "metadata": {},
   "outputs": [],
   "source": [
    "circ = qiskit.circuit.QuantumCircuit.from_qasm_file('circuits/qft_indep_qiskit_6.qasm')\n",
    "circ_inv = circ.copy()\n",
    "circ_inv.remove_final_measurements()\n",
    "circ_inv = circ_inv.inverse()\n",
    "circ_inv.barrier()\n",
    "\n",
    "rev_circ = circ_inv & circ\n",
    "isa_circ = pm.run(rev_circ)"
   ]
  },
  {
   "cell_type": "code",
   "execution_count": 6,
   "metadata": {},
   "outputs": [
    {
     "name": "stdout",
     "output_type": "stream",
     "text": [
      "Depolarizing:  0.633430469261876\n",
      "ESP:  0.6218823259012066\n",
      "QVA:  0.39815752050402026\n",
      "Qiskit Fidelity:  0.9678804169295652\n",
      "\n",
      "Qiskit Counts:  {'000000': 2048}\n"
     ]
    }
   ],
   "source": [
    "print(\"Depolarizing: \", depolarizing(isa_circ, backend, p=0))\n",
    "print(\"ESP: \", esp(isa_circ, backend))\n",
    "print(\"QVA: \", qva(isa_circ, backend))\n",
    "print(\"Qiskit Fidelity: \", qiskit_fidelity(isa_circ, backend))\n",
    "\n",
    "print(\"\\nQiskit Counts: \", qiskit_counts(isa_circ))"
   ]
  },
  {
   "cell_type": "code",
   "execution_count": null,
   "metadata": {},
   "outputs": [],
   "source": []
  }
 ],
 "metadata": {
  "kernelspec": {
   "display_name": "IBMQ",
   "language": "python",
   "name": "python3"
  },
  "language_info": {
   "codemirror_mode": {
    "name": "ipython",
    "version": 3
   },
   "file_extension": ".py",
   "mimetype": "text/x-python",
   "name": "python",
   "nbconvert_exporter": "python",
   "pygments_lexer": "ipython3",
   "version": "3.11.9"
  }
 },
 "nbformat": 4,
 "nbformat_minor": 2
}
